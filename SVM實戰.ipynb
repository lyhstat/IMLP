{
  "cells": [
    {
      "cell_type": "markdown",
      "metadata": {
        "id": "view-in-github",
        "colab_type": "text"
      },
      "source": [
        "<a href=\"https://colab.research.google.com/github/lyhstat/IMLP/blob/main/SVM%E5%AF%A6%E6%88%B0.ipynb\" target=\"_parent\"><img src=\"https://colab.research.google.com/assets/colab-badge.svg\" alt=\"Open In Colab\"/></a>"
      ]
    },
    {
      "cell_type": "markdown",
      "metadata": {
        "id": "Ux5IJbF6pND2"
      },
      "source": [
        "# 乳癌資料庫預測SVM分類\n",
        ">使用scikit-learn 機器學習套件裡的SVR演算法\n",
        "\n",
        "* (一)引入函式庫及內建乳癌資料集<br>\n",
        "引入之函式庫如下<br>\n",
        "sklearn.datasets: 用來匯入內建之乳癌資料集`datasets.load_breast_cancer()`<br>\n",
        "sklearn.SVR: 支持向量機回歸分析之演算法<br>\n",
        "matplotlib.pyplot: 用來繪製影像"
      ]
    },
    {
      "cell_type": "code",
      "execution_count": 3,
      "metadata": {
        "id": "jXZGnNgapND7"
      },
      "outputs": [],
      "source": [
        "from sklearn import svm\n",
        "from sklearn import datasets\n",
        "from sklearn.model_selection import train_test_split\n",
        "from sklearn.metrics import accuracy_score\n",
        "import numpy as np\n",
        "import matplotlib.pyplot as plt\n",
        "import pandas as pd"
      ]
    },
    {
      "cell_type": "code",
      "execution_count": 4,
      "metadata": {
        "id": "7eGE5gD9pNEA"
      },
      "outputs": [],
      "source": [
        "breast_cancer=datasets.load_breast_cancer()\n",
        "features=breast_cancer.data\n",
        "target=breast_cancer.target"
      ]
    },
    {
      "cell_type": "code",
      "source": [
        "features"
      ],
      "metadata": {
        "colab": {
          "base_uri": "https://localhost:8080/"
        },
        "id": "UaTL_Oj_uEA7",
        "outputId": "56684a23-5b44-4220-b94d-2548f7ecb30d"
      },
      "execution_count": 5,
      "outputs": [
        {
          "output_type": "execute_result",
          "data": {
            "text/plain": [
              "array([[1.799e+01, 1.038e+01, 1.228e+02, ..., 2.654e-01, 4.601e-01,\n",
              "        1.189e-01],\n",
              "       [2.057e+01, 1.777e+01, 1.329e+02, ..., 1.860e-01, 2.750e-01,\n",
              "        8.902e-02],\n",
              "       [1.969e+01, 2.125e+01, 1.300e+02, ..., 2.430e-01, 3.613e-01,\n",
              "        8.758e-02],\n",
              "       ...,\n",
              "       [1.660e+01, 2.808e+01, 1.083e+02, ..., 1.418e-01, 2.218e-01,\n",
              "        7.820e-02],\n",
              "       [2.060e+01, 2.933e+01, 1.401e+02, ..., 2.650e-01, 4.087e-01,\n",
              "        1.240e-01],\n",
              "       [7.760e+00, 2.454e+01, 4.792e+01, ..., 0.000e+00, 2.871e-01,\n",
              "        7.039e-02]])"
            ]
          },
          "metadata": {},
          "execution_count": 5
        }
      ]
    },
    {
      "cell_type": "code",
      "source": [
        "target"
      ],
      "metadata": {
        "colab": {
          "base_uri": "https://localhost:8080/"
        },
        "id": "P3UY6RrMuNDE",
        "outputId": "30c07fce-6bac-4c60-8d2a-66e877e25817"
      },
      "execution_count": 6,
      "outputs": [
        {
          "output_type": "execute_result",
          "data": {
            "text/plain": [
              "array([0, 0, 0, 0, 0, 0, 0, 0, 0, 0, 0, 0, 0, 0, 0, 0, 0, 0, 0, 1, 1, 1,\n",
              "       0, 0, 0, 0, 0, 0, 0, 0, 0, 0, 0, 0, 0, 0, 0, 1, 0, 0, 0, 0, 0, 0,\n",
              "       0, 0, 1, 0, 1, 1, 1, 1, 1, 0, 0, 1, 0, 0, 1, 1, 1, 1, 0, 1, 0, 0,\n",
              "       1, 1, 1, 1, 0, 1, 0, 0, 1, 0, 1, 0, 0, 1, 1, 1, 0, 0, 1, 0, 0, 0,\n",
              "       1, 1, 1, 0, 1, 1, 0, 0, 1, 1, 1, 0, 0, 1, 1, 1, 1, 0, 1, 1, 0, 1,\n",
              "       1, 1, 1, 1, 1, 1, 1, 0, 0, 0, 1, 0, 0, 1, 1, 1, 0, 0, 1, 0, 1, 0,\n",
              "       0, 1, 0, 0, 1, 1, 0, 1, 1, 0, 1, 1, 1, 1, 0, 1, 1, 1, 1, 1, 1, 1,\n",
              "       1, 1, 0, 1, 1, 1, 1, 0, 0, 1, 0, 1, 1, 0, 0, 1, 1, 0, 0, 1, 1, 1,\n",
              "       1, 0, 1, 1, 0, 0, 0, 1, 0, 1, 0, 1, 1, 1, 0, 1, 1, 0, 0, 1, 0, 0,\n",
              "       0, 0, 1, 0, 0, 0, 1, 0, 1, 0, 1, 1, 0, 1, 0, 0, 0, 0, 1, 1, 0, 0,\n",
              "       1, 1, 1, 0, 1, 1, 1, 1, 1, 0, 0, 1, 1, 0, 1, 1, 0, 0, 1, 0, 1, 1,\n",
              "       1, 1, 0, 1, 1, 1, 1, 1, 0, 1, 0, 0, 0, 0, 0, 0, 0, 0, 0, 0, 0, 0,\n",
              "       0, 0, 1, 1, 1, 1, 1, 1, 0, 1, 0, 1, 1, 0, 1, 1, 0, 1, 0, 0, 1, 1,\n",
              "       1, 1, 1, 1, 1, 1, 1, 1, 1, 1, 1, 0, 1, 1, 0, 1, 0, 1, 1, 1, 1, 1,\n",
              "       1, 1, 1, 1, 1, 1, 1, 1, 1, 0, 1, 1, 1, 0, 1, 0, 1, 1, 1, 1, 0, 0,\n",
              "       0, 1, 1, 1, 1, 0, 1, 0, 1, 0, 1, 1, 1, 0, 1, 1, 1, 1, 1, 1, 1, 0,\n",
              "       0, 0, 1, 1, 1, 1, 1, 1, 1, 1, 1, 1, 1, 0, 0, 1, 0, 0, 0, 1, 0, 0,\n",
              "       1, 1, 1, 1, 1, 0, 1, 1, 1, 1, 1, 0, 1, 1, 1, 0, 1, 1, 0, 0, 1, 1,\n",
              "       1, 1, 1, 1, 0, 1, 1, 1, 1, 1, 1, 1, 0, 1, 1, 1, 1, 1, 0, 1, 1, 0,\n",
              "       1, 1, 1, 1, 1, 1, 1, 1, 1, 1, 1, 1, 0, 1, 0, 0, 1, 0, 1, 1, 1, 1,\n",
              "       1, 0, 1, 1, 0, 1, 0, 1, 1, 0, 1, 0, 1, 1, 1, 1, 1, 1, 1, 1, 0, 0,\n",
              "       1, 1, 1, 1, 1, 1, 0, 1, 1, 1, 1, 1, 1, 1, 1, 1, 1, 0, 1, 1, 1, 1,\n",
              "       1, 1, 1, 0, 1, 0, 1, 1, 0, 1, 1, 1, 1, 1, 0, 0, 1, 0, 1, 0, 1, 1,\n",
              "       1, 1, 1, 0, 1, 1, 0, 1, 0, 1, 0, 0, 1, 1, 1, 0, 1, 1, 1, 1, 1, 1,\n",
              "       1, 1, 1, 1, 1, 0, 1, 0, 0, 1, 1, 1, 1, 1, 1, 1, 1, 1, 1, 1, 1, 1,\n",
              "       1, 1, 1, 1, 1, 1, 1, 1, 1, 1, 1, 1, 0, 0, 0, 0, 0, 0, 1])"
            ]
          },
          "metadata": {},
          "execution_count": 6
        }
      ]
    },
    {
      "cell_type": "code",
      "execution_count": 7,
      "metadata": {
        "colab": {
          "base_uri": "https://localhost:8080/"
        },
        "id": "fpxfKIpwpNEA",
        "outputId": "cddffccd-b606-45e3-a9dd-c61b24392867"
      },
      "outputs": [
        {
          "output_type": "execute_result",
          "data": {
            "text/plain": [
              "array(['malignant', 'malignant', 'malignant', 'malignant', 'malignant',\n",
              "       'malignant', 'malignant', 'malignant', 'malignant', 'malignant',\n",
              "       'malignant', 'malignant', 'malignant', 'malignant', 'malignant',\n",
              "       'malignant', 'malignant', 'malignant', 'malignant', 'benign',\n",
              "       'benign', 'benign', 'malignant', 'malignant', 'malignant',\n",
              "       'malignant', 'malignant', 'malignant', 'malignant', 'malignant',\n",
              "       'malignant', 'malignant', 'malignant', 'malignant', 'malignant',\n",
              "       'malignant', 'malignant', 'benign', 'malignant', 'malignant',\n",
              "       'malignant', 'malignant', 'malignant', 'malignant', 'malignant',\n",
              "       'malignant', 'benign', 'malignant', 'benign', 'benign', 'benign',\n",
              "       'benign', 'benign', 'malignant', 'malignant', 'benign',\n",
              "       'malignant', 'malignant', 'benign', 'benign', 'benign', 'benign',\n",
              "       'malignant', 'benign', 'malignant', 'malignant', 'benign',\n",
              "       'benign', 'benign', 'benign', 'malignant', 'benign', 'malignant',\n",
              "       'malignant', 'benign', 'malignant', 'benign', 'malignant',\n",
              "       'malignant', 'benign', 'benign', 'benign', 'malignant',\n",
              "       'malignant', 'benign', 'malignant', 'malignant', 'malignant',\n",
              "       'benign', 'benign', 'benign', 'malignant', 'benign', 'benign',\n",
              "       'malignant', 'malignant', 'benign', 'benign', 'benign',\n",
              "       'malignant', 'malignant', 'benign', 'benign', 'benign', 'benign',\n",
              "       'malignant', 'benign', 'benign', 'malignant', 'benign', 'benign',\n",
              "       'benign', 'benign', 'benign', 'benign', 'benign', 'benign',\n",
              "       'malignant', 'malignant', 'malignant', 'benign', 'malignant',\n",
              "       'malignant', 'benign', 'benign', 'benign', 'malignant',\n",
              "       'malignant', 'benign', 'malignant', 'benign', 'malignant',\n",
              "       'malignant', 'benign', 'malignant', 'malignant', 'benign',\n",
              "       'benign', 'malignant', 'benign', 'benign', 'malignant', 'benign',\n",
              "       'benign', 'benign', 'benign', 'malignant', 'benign', 'benign',\n",
              "       'benign', 'benign', 'benign', 'benign', 'benign', 'benign',\n",
              "       'benign', 'malignant', 'benign', 'benign', 'benign', 'benign',\n",
              "       'malignant', 'malignant', 'benign', 'malignant', 'benign',\n",
              "       'benign', 'malignant', 'malignant', 'benign', 'benign',\n",
              "       'malignant', 'malignant', 'benign', 'benign', 'benign', 'benign',\n",
              "       'malignant', 'benign', 'benign', 'malignant', 'malignant',\n",
              "       'malignant', 'benign', 'malignant', 'benign', 'malignant',\n",
              "       'benign', 'benign', 'benign', 'malignant', 'benign', 'benign',\n",
              "       'malignant', 'malignant', 'benign', 'malignant', 'malignant',\n",
              "       'malignant', 'malignant', 'benign', 'malignant', 'malignant',\n",
              "       'malignant', 'benign', 'malignant', 'benign', 'malignant',\n",
              "       'benign', 'benign', 'malignant', 'benign', 'malignant',\n",
              "       'malignant', 'malignant', 'malignant', 'benign', 'benign',\n",
              "       'malignant', 'malignant', 'benign', 'benign', 'benign',\n",
              "       'malignant', 'benign', 'benign', 'benign', 'benign', 'benign',\n",
              "       'malignant', 'malignant', 'benign', 'benign', 'malignant',\n",
              "       'benign', 'benign', 'malignant', 'malignant', 'benign',\n",
              "       'malignant', 'benign', 'benign', 'benign', 'benign', 'malignant',\n",
              "       'benign', 'benign', 'benign', 'benign', 'benign', 'malignant',\n",
              "       'benign', 'malignant', 'malignant', 'malignant', 'malignant',\n",
              "       'malignant', 'malignant', 'malignant', 'malignant', 'malignant',\n",
              "       'malignant', 'malignant', 'malignant', 'malignant', 'malignant',\n",
              "       'benign', 'benign', 'benign', 'benign', 'benign', 'benign',\n",
              "       'malignant', 'benign', 'malignant', 'benign', 'benign',\n",
              "       'malignant', 'benign', 'benign', 'malignant', 'benign',\n",
              "       'malignant', 'malignant', 'benign', 'benign', 'benign', 'benign',\n",
              "       'benign', 'benign', 'benign', 'benign', 'benign', 'benign',\n",
              "       'benign', 'benign', 'benign', 'malignant', 'benign', 'benign',\n",
              "       'malignant', 'benign', 'malignant', 'benign', 'benign', 'benign',\n",
              "       'benign', 'benign', 'benign', 'benign', 'benign', 'benign',\n",
              "       'benign', 'benign', 'benign', 'benign', 'benign', 'malignant',\n",
              "       'benign', 'benign', 'benign', 'malignant', 'benign', 'malignant',\n",
              "       'benign', 'benign', 'benign', 'benign', 'malignant', 'malignant',\n",
              "       'malignant', 'benign', 'benign', 'benign', 'benign', 'malignant',\n",
              "       'benign', 'malignant', 'benign', 'malignant', 'benign', 'benign',\n",
              "       'benign', 'malignant', 'benign', 'benign', 'benign', 'benign',\n",
              "       'benign', 'benign', 'benign', 'malignant', 'malignant',\n",
              "       'malignant', 'benign', 'benign', 'benign', 'benign', 'benign',\n",
              "       'benign', 'benign', 'benign', 'benign', 'benign', 'benign',\n",
              "       'malignant', 'malignant', 'benign', 'malignant', 'malignant',\n",
              "       'malignant', 'benign', 'malignant', 'malignant', 'benign',\n",
              "       'benign', 'benign', 'benign', 'benign', 'malignant', 'benign',\n",
              "       'benign', 'benign', 'benign', 'benign', 'malignant', 'benign',\n",
              "       'benign', 'benign', 'malignant', 'benign', 'benign', 'malignant',\n",
              "       'malignant', 'benign', 'benign', 'benign', 'benign', 'benign',\n",
              "       'benign', 'malignant', 'benign', 'benign', 'benign', 'benign',\n",
              "       'benign', 'benign', 'benign', 'malignant', 'benign', 'benign',\n",
              "       'benign', 'benign', 'benign', 'malignant', 'benign', 'benign',\n",
              "       'malignant', 'benign', 'benign', 'benign', 'benign', 'benign',\n",
              "       'benign', 'benign', 'benign', 'benign', 'benign', 'benign',\n",
              "       'benign', 'malignant', 'benign', 'malignant', 'malignant',\n",
              "       'benign', 'malignant', 'benign', 'benign', 'benign', 'benign',\n",
              "       'benign', 'malignant', 'benign', 'benign', 'malignant', 'benign',\n",
              "       'malignant', 'benign', 'benign', 'malignant', 'benign',\n",
              "       'malignant', 'benign', 'benign', 'benign', 'benign', 'benign',\n",
              "       'benign', 'benign', 'benign', 'malignant', 'malignant', 'benign',\n",
              "       'benign', 'benign', 'benign', 'benign', 'benign', 'malignant',\n",
              "       'benign', 'benign', 'benign', 'benign', 'benign', 'benign',\n",
              "       'benign', 'benign', 'benign', 'benign', 'malignant', 'benign',\n",
              "       'benign', 'benign', 'benign', 'benign', 'benign', 'benign',\n",
              "       'malignant', 'benign', 'malignant', 'benign', 'benign',\n",
              "       'malignant', 'benign', 'benign', 'benign', 'benign', 'benign',\n",
              "       'malignant', 'malignant', 'benign', 'malignant', 'benign',\n",
              "       'malignant', 'benign', 'benign', 'benign', 'benign', 'benign',\n",
              "       'malignant', 'benign', 'benign', 'malignant', 'benign',\n",
              "       'malignant', 'benign', 'malignant', 'malignant', 'benign',\n",
              "       'benign', 'benign', 'malignant', 'benign', 'benign', 'benign',\n",
              "       'benign', 'benign', 'benign', 'benign', 'benign', 'benign',\n",
              "       'benign', 'benign', 'malignant', 'benign', 'malignant',\n",
              "       'malignant', 'benign', 'benign', 'benign', 'benign', 'benign',\n",
              "       'benign', 'benign', 'benign', 'benign', 'benign', 'benign',\n",
              "       'benign', 'benign', 'benign', 'benign', 'benign', 'benign',\n",
              "       'benign', 'benign', 'benign', 'benign', 'benign', 'benign',\n",
              "       'benign', 'benign', 'malignant', 'malignant', 'malignant',\n",
              "       'malignant', 'malignant', 'malignant', 'benign'], dtype='<U9')"
            ]
          },
          "metadata": {},
          "execution_count": 7
        }
      ],
      "source": [
        "target_names=breast_cancer.target_names\n",
        "labels=target_names[target]\n",
        "labels"
      ]
    },
    {
      "cell_type": "code",
      "execution_count": 8,
      "metadata": {
        "id": "bj_DG30ypNEC"
      },
      "outputs": [],
      "source": [
        "malignant_petal_length=features[labels=='malignant',2]\n",
        "malignant_petal_width=features[labels=='malignant',3]\n",
        "malignant=np.c_[malignant_petal_length,malignant_petal_width]"
      ]
    },
    {
      "cell_type": "code",
      "execution_count": 9,
      "metadata": {
        "id": "-peSiagVpNED"
      },
      "outputs": [],
      "source": [
        "benign_petal_length=features[labels=='benign',2]\n",
        "benign_petal_width=features[labels=='benign',3]\n",
        "benign=np.c_[benign_petal_length,benign_petal_width]"
      ]
    },
    {
      "cell_type": "code",
      "source": [
        "plt.scatter(malignant[:,0],malignant[:,1],color='red')\n",
        "plt.scatter(benign[:,0],benign[:,1],color='blue')"
      ],
      "metadata": {
        "colab": {
          "base_uri": "https://localhost:8080/",
          "height": 283
        },
        "id": "n1P6yu6Mxc7n",
        "outputId": "d6e368c1-4e47-4d74-a0a8-f1f0df2fbd69"
      },
      "execution_count": 10,
      "outputs": [
        {
          "output_type": "execute_result",
          "data": {
            "text/plain": [
              "<matplotlib.collections.PathCollection at 0x7fd0db3ee7f0>"
            ]
          },
          "metadata": {},
          "execution_count": 10
        },
        {
          "output_type": "display_data",
          "data": {
            "text/plain": [
              "<Figure size 432x288 with 1 Axes>"
            ],
            "image/png": "[encoded data removed]"
          },
          "metadata": {
            "needs_background": "light"
          }
        }
      ]
    },
    {
      "cell_type": "code",
      "execution_count": 11,
      "metadata": {
        "id": "-Ktfyn23pNEE"
      },
      "outputs": [],
      "source": [
        "training_data=np.r_[malignant, benign]\n",
        "training_labels=np.r_[np.zeros(len(malignant)),np.ones(len(benign))*2]"
      ]
    },
    {
      "cell_type": "code",
      "source": [
        "clf=svm.LinearSVC()\n",
        "clf.fit(training_data,training_labels)"
      ],
      "metadata": {
        "colab": {
          "base_uri": "https://localhost:8080/"
        },
        "id": "frrCvbGkx8wr",
        "outputId": "21fd94b2-622d-4f35-c46d-d8f9f4445484"
      },
      "execution_count": 12,
      "outputs": [
        {
          "output_type": "stream",
          "name": "stderr",
          "text": [
            "/usr/local/lib/python3.8/dist-packages/sklearn/svm/_base.py:1206: ConvergenceWarning: Liblinear failed to converge, increase the number of iterations.\n",
            "  warnings.warn(\n"
          ]
        },
        {
          "output_type": "execute_result",
          "data": {
            "text/plain": [
              "LinearSVC()"
            ]
          },
          "metadata": {},
          "execution_count": 12
        }
      ]
    },
    {
      "cell_type": "code",
      "source": [
        "def SVM_plot(clf,title):\n",
        "    training_x_min=training_data[:,0].min()-1\n",
        "    training_x_max=training_data[:,0].max()+1\n",
        "    training_y_min=training_data[:,1].min()-1\n",
        "    training_y_max=training_data[:,1].max()+1\n",
        "    grid_interval=0.02\n",
        "    xx,yy=np.meshgrid(np.arange(training_x_min,training_x_max,grid_interval),np.arange(training_y_min,training_y_max,grid_interval))\n",
        "    \n",
        "    Z=clf.predict(np.c_[xx.ravel(),yy.ravel()])\n",
        "    Z=Z.reshape(xx.shape)\n",
        "    plt.contourf(xx,yy,Z,cmap=plt.cm.bone,alpha=0.2)\n",
        "    plt.autoscale()\n",
        "    plt.grid()\n",
        "    plt.scatter(malignant[:,0],malignant[:,1],color='red')\n",
        "    plt.scatter(benign[:,0],benign[:,1],color='blue')\n",
        "    plt.title(title)\n",
        "    plt.show()"
      ],
      "metadata": {
        "id": "Wy0UupVr5zvl"
      },
      "execution_count": 13,
      "outputs": []
    },
    {
      "cell_type": "markdown",
      "metadata": {
        "id": "bwjs4fAopND-"
      },
      "source": [
        "## Step1. 下載資料"
      ]
    },
    {
      "cell_type": "code",
      "source": [
        "breast_cancer=datasets.load_breast_cancer()\n",
        "X=breast_cancer.data\n",
        "y=breast_cancer.target"
      ],
      "metadata": {
        "id": "TH6Wm5cr10gN"
      },
      "execution_count": 14,
      "outputs": []
    },
    {
      "cell_type": "markdown",
      "metadata": {
        "id": "TySacPSXpNEC"
      },
      "source": [
        "## Step2. 區分訓練集與測試集"
      ]
    },
    {
      "cell_type": "code",
      "source": [
        "clf=svm.SVC(kernel='poly')\n",
        "clf.fit(training_data,training_labels)\n",
        "SVM_plot(clf,'poly')"
      ],
      "metadata": {
        "colab": {
          "base_uri": "https://localhost:8080/",
          "height": 208
        },
        "id": "8HebAlQG5sSC",
        "outputId": "11f9cdf2-61c3-4880-fe88-7e4d6713a3f3"
      },
      "execution_count": 1,
      "outputs": [
        {
          "output_type": "error",
          "ename": "NameError",
          "evalue": "ignored",
          "traceback": [
            "\u001b[0;31m---------------------------------------------------------------------------\u001b[0m",
            "\u001b[0;31mNameError\u001b[0m                                 Traceback (most recent call last)",
            "\u001b[0;32m<ipython-input-1-3018423254ea>\u001b[0m in \u001b[0;36m<module>\u001b[0;34m\u001b[0m\n\u001b[0;32m----> 1\u001b[0;31m \u001b[0mclf\u001b[0m\u001b[0;34m=\u001b[0m\u001b[0msvm\u001b[0m\u001b[0;34m.\u001b[0m\u001b[0mSVC\u001b[0m\u001b[0;34m(\u001b[0m\u001b[0mkernel\u001b[0m\u001b[0;34m=\u001b[0m\u001b[0;34m'poly'\u001b[0m\u001b[0;34m)\u001b[0m\u001b[0;34m\u001b[0m\u001b[0;34m\u001b[0m\u001b[0m\n\u001b[0m\u001b[1;32m      2\u001b[0m \u001b[0mclf\u001b[0m\u001b[0;34m.\u001b[0m\u001b[0mfit\u001b[0m\u001b[0;34m(\u001b[0m\u001b[0mtraining_data\u001b[0m\u001b[0;34m,\u001b[0m\u001b[0mtraining_labels\u001b[0m\u001b[0;34m)\u001b[0m\u001b[0;34m\u001b[0m\u001b[0;34m\u001b[0m\u001b[0m\n\u001b[1;32m      3\u001b[0m \u001b[0mSVM_plot\u001b[0m\u001b[0;34m(\u001b[0m\u001b[0mclf\u001b[0m\u001b[0;34m,\u001b[0m\u001b[0;34m'poly'\u001b[0m\u001b[0;34m)\u001b[0m\u001b[0;34m\u001b[0m\u001b[0;34m\u001b[0m\u001b[0m\n",
            "\u001b[0;31mNameError\u001b[0m: name 'svm' is not defined"
          ]
        }
      ]
    },
    {
      "cell_type": "markdown",
      "metadata": {
        "id": "ncBaH3MqpNEE"
      },
      "source": [
        "## Step3. 建模"
      ]
    },
    {
      "cell_type": "code",
      "source": [
        "clf=svm.SVC(kernel='poly',gamma='auto',C=100)\n",
        "clf.fit(X_train,y_train)"
      ],
      "metadata": {
        "colab": {
          "base_uri": "https://localhost:8080/",
          "height": 190
        },
        "id": "byzo97KD7l-7",
        "outputId": "a958151b-cd1e-467f-8cf8-f55fbf02558f"
      },
      "execution_count": 15,
      "outputs": [
        {
          "output_type": "error",
          "ename": "NameError",
          "evalue": "ignored",
          "traceback": [
            "\u001b[0;31m---------------------------------------------------------------------------\u001b[0m",
            "\u001b[0;31mNameError\u001b[0m                                 Traceback (most recent call last)",
            "\u001b[0;32m<ipython-input-15-0427c39f17fb>\u001b[0m in \u001b[0;36m<module>\u001b[0;34m\u001b[0m\n\u001b[1;32m      1\u001b[0m \u001b[0mclf\u001b[0m\u001b[0;34m=\u001b[0m\u001b[0msvm\u001b[0m\u001b[0;34m.\u001b[0m\u001b[0mSVC\u001b[0m\u001b[0;34m(\u001b[0m\u001b[0mkernel\u001b[0m\u001b[0;34m=\u001b[0m\u001b[0;34m'poly'\u001b[0m\u001b[0;34m,\u001b[0m\u001b[0mgamma\u001b[0m\u001b[0;34m=\u001b[0m\u001b[0;34m'auto'\u001b[0m\u001b[0;34m,\u001b[0m\u001b[0mC\u001b[0m\u001b[0;34m=\u001b[0m\u001b[0;36m100\u001b[0m\u001b[0;34m)\u001b[0m\u001b[0;34m\u001b[0m\u001b[0;34m\u001b[0m\u001b[0m\n\u001b[0;32m----> 2\u001b[0;31m \u001b[0mclf\u001b[0m\u001b[0;34m.\u001b[0m\u001b[0mfit\u001b[0m\u001b[0;34m(\u001b[0m\u001b[0mX_train\u001b[0m\u001b[0;34m,\u001b[0m\u001b[0my_train\u001b[0m\u001b[0;34m)\u001b[0m\u001b[0;34m\u001b[0m\u001b[0;34m\u001b[0m\u001b[0m\n\u001b[0m",
            "\u001b[0;31mNameError\u001b[0m: name 'X_train' is not defined"
          ]
        }
      ]
    },
    {
      "cell_type": "markdown",
      "metadata": {
        "id": "i2d2DN1WpNEF"
      },
      "source": [
        "## Step4. 預測\n",
        "\n",
        "```\n",
        "\n",
        "```\n"
      ]
    },
    {
      "cell_type": "code",
      "source": [
        "clf.predict(X_test)"
      ],
      "metadata": {
        "colab": {
          "base_uri": "https://localhost:8080/",
          "height": 172
        },
        "id": "7dO4GBEH7nnk",
        "outputId": "fdea75fa-9df1-461c-b0ee-377a2ee0f57b"
      },
      "execution_count": 31,
      "outputs": [
        {
          "output_type": "error",
          "ename": "NameError",
          "evalue": "ignored",
          "traceback": [
            "\u001b[0;31m---------------------------------------------------------------------------\u001b[0m",
            "\u001b[0;31mNameError\u001b[0m                                 Traceback (most recent call last)",
            "\u001b[0;32m<ipython-input-31-f649b58415e1>\u001b[0m in \u001b[0;36m<module>\u001b[0;34m\u001b[0m\n\u001b[0;32m----> 1\u001b[0;31m \u001b[0mclf\u001b[0m\u001b[0;34m.\u001b[0m\u001b[0mpredict\u001b[0m\u001b[0;34m(\u001b[0m\u001b[0mX_test\u001b[0m\u001b[0;34m)\u001b[0m\u001b[0;34m\u001b[0m\u001b[0;34m\u001b[0m\u001b[0m\n\u001b[0m",
            "\u001b[0;31mNameError\u001b[0m: name 'X_test' is not defined"
          ]
        }
      ]
    },
    {
      "cell_type": "markdown",
      "metadata": {
        "id": "myQ83Qv9pNEG"
      },
      "source": [
        "## Step5. 準確度分析"
      ]
    },
    {
      "cell_type": "code",
      "execution_count": 9,
      "metadata": {
        "colab": {
          "base_uri": "https://localhost:8080/",
          "height": 190
        },
        "id": "38wWedQNpNEH",
        "outputId": "c1ab36b9-6740-4dcb-8316-c1ffb64aa4e3"
      },
      "outputs": [
        {
          "output_type": "error",
          "ename": "NameError",
          "evalue": "ignored",
          "traceback": [
            "\u001b[0;31m---------------------------------------------------------------------------\u001b[0m",
            "\u001b[0;31mNameError\u001b[0m                                 Traceback (most recent call last)",
            "\u001b[0;32m<ipython-input-9-7a91049e7e13>\u001b[0m in \u001b[0;36m<module>\u001b[0;34m\u001b[0m\n\u001b[0;32m----> 1\u001b[0;31m \u001b[0mprint\u001b[0m\u001b[0;34m(\u001b[0m\u001b[0mclf\u001b[0m\u001b[0;34m.\u001b[0m\u001b[0mscore\u001b[0m\u001b[0;34m(\u001b[0m\u001b[0mX_train\u001b[0m\u001b[0;34m,\u001b[0m\u001b[0my_train\u001b[0m\u001b[0;34m)\u001b[0m\u001b[0;34m)\u001b[0m\u001b[0;34m\u001b[0m\u001b[0;34m\u001b[0m\u001b[0m\n\u001b[0m\u001b[1;32m      2\u001b[0m \u001b[0mprint\u001b[0m\u001b[0;34m(\u001b[0m\u001b[0mclf\u001b[0m\u001b[0;34m.\u001b[0m\u001b[0mscore\u001b[0m\u001b[0;34m(\u001b[0m\u001b[0mX_test\u001b[0m\u001b[0;34m,\u001b[0m \u001b[0my_test\u001b[0m\u001b[0;34m)\u001b[0m\u001b[0;34m)\u001b[0m\u001b[0;34m\u001b[0m\u001b[0;34m\u001b[0m\u001b[0m\n",
            "\u001b[0;31mNameError\u001b[0m: name 'X_train' is not defined"
          ]
        }
      ],
      "source": [
        "print(clf.score(X_train,y_train))\n",
        "print(clf.score(X_test, y_test))"
      ]
    },
    {
      "cell_type": "code",
      "execution_count": null,
      "metadata": {
        "id": "6O4vI5cCpNEH"
      },
      "outputs": [],
      "source": []
    }
  ],
  "metadata": {
    "kernelspec": {
      "display_name": "Python 3",
      "language": "python",
      "name": "python3"
    },
    "language_info": {
      "codemirror_mode": {
        "name": "ipython",
        "version": 3
      },
      "file_extension": ".py",
      "mimetype": "text/x-python",
      "name": "python",
      "nbconvert_exporter": "python",
      "pygments_lexer": "ipython3",
      "version": "3.8.8"
    },
    "colab": {
      "provenance": [],
      "include_colab_link": true
    }
  },
  "nbformat": 4,
  "nbformat_minor": 0
}