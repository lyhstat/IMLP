{
  "cells": [
    {
      "cell_type": "markdown",
      "metadata": {
        "id": "view-in-github",
        "colab_type": "text"
      },
      "source": [
        "<a href=\"https://colab.research.google.com/github/lyhstat/IMLP/blob/main/Linear_Regression_1.ipynb\" target=\"_parent\"><img src=\"https://colab.research.google.com/assets/colab-badge.svg\" alt=\"Open In Colab\"/></a>"
      ]
    },
    {
      "cell_type": "markdown",
      "metadata": {
        "id": "ET6p6mBL-U3w"
      },
      "source": [
        "# Linear Regression\n"
      ]
    },
    {
      "cell_type": "code",
      "execution_count": 1,
      "metadata": {
        "id": "IeUXxP-f-U30"
      },
      "outputs": [],
      "source": [
        "%matplotlib inline\n",
        "import numpy as np\n",
        "import matplotlib.pyplot as plt"
      ]
    },
    {
      "cell_type": "markdown",
      "metadata": {
        "id": "AOeDI668-U31"
      },
      "source": [
        "## 1. 線性迴歸基本概念"
      ]
    },
    {
      "cell_type": "markdown",
      "metadata": {
        "id": "c_ZiGpzH-U32"
      },
      "source": [
        "#### 直線\n",
        "\n",
        "$$f(x) = 1.2x + 0.8$$\n",
        "\n"
      ]
    },
    {
      "cell_type": "code",
      "execution_count": 2,
      "metadata": {
        "id": "45tnWIhf-U33",
        "outputId": "010851b1-e20d-49a8-bc8a-dfbbe576f93a",
        "colab": {
          "base_uri": "https://localhost:8080/"
        }
      },
      "outputs": [
        {
          "output_type": "stream",
          "name": "stdout",
          "text": [
            "[0.         0.10204082 0.20408163 0.30612245 0.40816327 0.51020408\n",
            " 0.6122449  0.71428571 0.81632653 0.91836735 1.02040816 1.12244898\n",
            " 1.2244898  1.32653061 1.42857143 1.53061224 1.63265306 1.73469388\n",
            " 1.83673469 1.93877551 2.04081633 2.14285714 2.24489796 2.34693878\n",
            " 2.44897959 2.55102041 2.65306122 2.75510204 2.85714286 2.95918367\n",
            " 3.06122449 3.16326531 3.26530612 3.36734694 3.46938776 3.57142857\n",
            " 3.67346939 3.7755102  3.87755102 3.97959184 4.08163265 4.18367347\n",
            " 4.28571429 4.3877551  4.48979592 4.59183673 4.69387755 4.79591837\n",
            " 4.89795918 5.        ]\n"
          ]
        }
      ],
      "source": [
        "#準備 50 個點\n",
        "#5-0/50 = 0.1 +....\n",
        "# 0~5線性切割\n",
        "x = np.linspace(0, 5, 50)\n",
        "print(x)"
      ]
    },
    {
      "cell_type": "code",
      "execution_count": 3,
      "metadata": {
        "id": "6dLtX6ee-U34",
        "outputId": "5fd42886-724b-4183-a34e-9cfccf1d3e0b",
        "colab": {
          "base_uri": "https://localhost:8080/"
        }
      },
      "outputs": [
        {
          "output_type": "execute_result",
          "data": {
            "text/plain": [
              "array([0.8       , 0.92244898, 1.04489796, 1.16734694, 1.28979592,\n",
              "       1.4122449 , 1.53469388, 1.65714286, 1.77959184, 1.90204082,\n",
              "       2.0244898 , 2.14693878, 2.26938776, 2.39183673, 2.51428571,\n",
              "       2.63673469, 2.75918367, 2.88163265, 3.00408163, 3.12653061,\n",
              "       3.24897959, 3.37142857, 3.49387755, 3.61632653, 3.73877551,\n",
              "       3.86122449, 3.98367347, 4.10612245, 4.22857143, 4.35102041,\n",
              "       4.47346939, 4.59591837, 4.71836735, 4.84081633, 4.96326531,\n",
              "       5.08571429, 5.20816327, 5.33061224, 5.45306122, 5.5755102 ,\n",
              "       5.69795918, 5.82040816, 5.94285714, 6.06530612, 6.1877551 ,\n",
              "       6.31020408, 6.43265306, 6.55510204, 6.67755102, 6.8       ])"
            ]
          },
          "metadata": {},
          "execution_count": 3
        }
      ],
      "source": [
        "y = 1.2*x + 0.8\n",
        "y"
      ]
    },
    {
      "cell_type": "code",
      "execution_count": 4,
      "metadata": {
        "id": "23NSvKxX-U35",
        "outputId": "a10498b0-a617-4ddd-924c-5b782aed81b6",
        "colab": {
          "base_uri": "https://localhost:8080/",
          "height": 284
        }
      },
      "outputs": [
        {
          "output_type": "execute_result",
          "data": {
            "text/plain": [
              "[<matplotlib.lines.Line2D at 0x7f88eef36ca0>]"
            ]
          },
          "metadata": {},
          "execution_count": 4
        },
        {
          "output_type": "display_data",
          "data": {
            "text/plain": [
              "<Figure size 432x288 with 1 Axes>"
            ],
            "image/png": "[encoded data removed]"
          },
          "metadata": {
            "needs_background": "light"
          }
        }
      ],
      "source": [
        "#畫圖\n",
        "plt.scatter(x,y)\n",
        "plt.plot(x, 1.2*x+0.8, 'r')"
      ]
    },
    {
      "cell_type": "markdown",
      "metadata": {
        "id": "JeGCjBmL-U35"
      },
      "source": [
        "#### add noise \n",
        "\n",
        "$$f(x) + \\varepsilon(x)$$\n"
      ]
    },
    {
      "cell_type": "code",
      "execution_count": 5,
      "metadata": {
        "id": "9SFfxc66-U35",
        "outputId": "ad4552ac-5a98-415a-a7cd-a706749f72ec",
        "colab": {
          "base_uri": "https://localhost:8080/"
        }
      },
      "outputs": [
        {
          "output_type": "stream",
          "name": "stdout",
          "text": [
            "[0.48826944 1.0917132  0.56431066 1.63956828 0.656723   1.74468674\n",
            " 1.26611962 2.27050502 2.03780274 3.26172968 2.86397052 3.10770417\n",
            " 0.58722604 1.93820624 1.7861111  2.31429006 3.40822138 3.11266782\n",
            " 2.30831657 3.6796996  3.3829386  3.09866929 2.84614914 3.96529934\n",
            " 4.24141153 5.15080765 3.65089095 4.03609382 4.2556605  3.99770692\n",
            " 4.55185067 4.65712389 4.46287834 5.09585184 5.74323375 4.66870035\n",
            " 5.31781932 5.63150968 5.13229267 5.53274803 4.74501468 6.57931572\n",
            " 5.80461721 6.35454097 6.49362987 6.83913091 6.01865569 6.76124138\n",
            " 7.25582933 7.18576894]\n"
          ]
        }
      ],
      "source": [
        "y = 1.2*x + 0.8 + 0.6*np.random.randn(50)\n",
        "print(y)"
      ]
    },
    {
      "cell_type": "code",
      "execution_count": 6,
      "metadata": {
        "id": "sZwY1NLh-U36",
        "outputId": "b22e67d6-40d3-457a-f21f-a237dd0efe7f",
        "colab": {
          "base_uri": "https://localhost:8080/",
          "height": 283
        }
      },
      "outputs": [
        {
          "output_type": "execute_result",
          "data": {
            "text/plain": [
              "[<matplotlib.lines.Line2D at 0x7f88eea72e80>]"
            ]
          },
          "metadata": {},
          "execution_count": 6
        },
        {
          "output_type": "display_data",
          "data": {
            "text/plain": [
              "<Figure size 432x288 with 1 Axes>"
            ],
            "image/png": "[encoded data removed]"
          },
          "metadata": {
            "needs_background": "light"
          }
        }
      ],
      "source": [
        "plt.scatter(x,y)\n",
        "plt.plot(x, 1.2*x + 0.8, 'r')"
      ]
    },
    {
      "cell_type": "code",
      "execution_count": 7,
      "metadata": {
        "id": "eeGZktKP-U36"
      },
      "outputs": [],
      "source": [
        "from sklearn.linear_model import LinearRegression\n",
        "regr = LinearRegression()"
      ]
    },
    {
      "cell_type": "code",
      "execution_count": 8,
      "metadata": {
        "id": "cllX7vYi-U36",
        "outputId": "da556442-8f9d-4af7-f50e-565c302f9cdf",
        "colab": {
          "base_uri": "https://localhost:8080/"
        }
      },
      "outputs": [
        {
          "output_type": "execute_result",
          "data": {
            "text/plain": [
              "LinearRegression()"
            ]
          },
          "metadata": {},
          "execution_count": 8
        }
      ],
      "source": [
        "regr"
      ]
    },
    {
      "cell_type": "markdown",
      "metadata": {
        "id": "AjHLdu7j-U37"
      },
      "source": [
        "要求資料轉換<br>\n",
        "\n",
        "$$[x_1, x_2, \\ldots, x_{50}]$$\n",
        "\n",
        "==> \n",
        "\n",
        "$$[[x_1], [x_2], \\ldots, [x_{50}]]$$\n",
        "\n",
        "\n",
        "矩陣的概念"
      ]
    },
    {
      "cell_type": "code",
      "execution_count": 9,
      "metadata": {
        "id": "Gas3gR2R-U37",
        "outputId": "c7fa8e3d-f813-49cd-d1f9-befb16d93a60",
        "colab": {
          "base_uri": "https://localhost:8080/"
        }
      },
      "outputs": [
        {
          "output_type": "stream",
          "name": "stdout",
          "text": [
            "(50,)\n"
          ]
        },
        {
          "output_type": "execute_result",
          "data": {
            "text/plain": [
              "(50, 1)"
            ]
          },
          "metadata": {},
          "execution_count": 9
        }
      ],
      "source": [
        "print(x.shape)\n",
        "X = x.reshape(-1,1)\n",
        "X.shape"
      ]
    },
    {
      "cell_type": "code",
      "execution_count": 10,
      "metadata": {
        "id": "WqtbJQFv-U37",
        "outputId": "866535ee-1d3d-4a94-bacc-27c1b783498b",
        "colab": {
          "base_uri": "https://localhost:8080/"
        }
      },
      "outputs": [
        {
          "output_type": "execute_result",
          "data": {
            "text/plain": [
              "LinearRegression()"
            ]
          },
          "metadata": {},
          "execution_count": 10
        }
      ],
      "source": [
        "regr.fit(X,y)"
      ]
    },
    {
      "cell_type": "code",
      "execution_count": 11,
      "metadata": {
        "id": "mdEI4D-M-U38",
        "outputId": "ce298783-fbee-49d8-e7a4-65f49d809d0e",
        "colab": {
          "base_uri": "https://localhost:8080/"
        }
      },
      "outputs": [
        {
          "output_type": "stream",
          "name": "stdout",
          "text": [
            "[0.8108126  0.93574697 1.06068133 1.18561569 1.31055005 1.43548441\n",
            " 1.56041877 1.68535313 1.8102875  1.93522186 2.06015622 2.18509058\n",
            " 2.31002494 2.4349593  2.55989366 2.68482802 2.80976239 2.93469675\n",
            " 3.05963111 3.18456547 3.30949983 3.43443419 3.55936855 3.68430292\n",
            " 3.80923728 3.93417164 4.059106   4.18404036 4.30897472 4.43390908\n",
            " 4.55884345 4.68377781 4.80871217 4.93364653 5.05858089 5.18351525\n",
            " 5.30844961 5.43338397 5.55831834 5.6832527  5.80818706 5.93312142\n",
            " 6.05805578 6.18299014 6.3079245  6.43285887 6.55779323 6.68272759\n",
            " 6.80766195 6.93259631]\n"
          ]
        }
      ],
      "source": [
        "Y = regr.predict(X)\n",
        "print(Y)"
      ]
    },
    {
      "cell_type": "code",
      "execution_count": 12,
      "metadata": {
        "id": "ME5-25-V-U38",
        "outputId": "33aa0ee4-846c-4462-d374-66b3df1b0a61",
        "colab": {
          "base_uri": "https://localhost:8080/"
        }
      },
      "outputs": [
        {
          "output_type": "execute_result",
          "data": {
            "text/plain": [
              "{'copy_X': True,\n",
              " 'fit_intercept': True,\n",
              " 'n_jobs': None,\n",
              " 'normalize': 'deprecated',\n",
              " 'positive': False}"
            ]
          },
          "metadata": {},
          "execution_count": 12
        }
      ],
      "source": [
        "#了解你的訓練參數\n",
        "regr.get_params()"
      ]
    },
    {
      "cell_type": "code",
      "execution_count": 13,
      "metadata": {
        "id": "3pqVI4Oz-U38",
        "outputId": "4c54da10-3378-4210-f9da-fa8a6266a2a5",
        "colab": {
          "base_uri": "https://localhost:8080/",
          "height": 283
        }
      },
      "outputs": [
        {
          "output_type": "stream",
          "name": "stdout",
          "text": [
            "0.32546342983280496\n"
          ]
        },
        {
          "output_type": "display_data",
          "data": {
            "text/plain": [
              "<Figure size 432x288 with 1 Axes>"
            ],
            "image/png": "[encoded data removed]"
          },
          "metadata": {
            "needs_background": "light"
          }
        }
      ],
      "source": [
        "plt.scatter(x, y) #原本 \n",
        "plt.plot(x, Y, 'ro') #預測\n",
        "#calculate mse\n",
        "mse = np.sum((Y-y)**2) / len(y)\n",
        "print(mse)"
      ]
    },
    {
      "cell_type": "code",
      "execution_count": 14,
      "metadata": {
        "id": "-4IAASB7-U39",
        "outputId": "c6427927-6d45-4a3e-d626-34a9f6b8c346",
        "colab": {
          "base_uri": "https://localhost:8080/"
        }
      },
      "outputs": [
        {
          "output_type": "execute_result",
          "data": {
            "text/plain": [
              "array([1.22435674])"
            ]
          },
          "metadata": {},
          "execution_count": 14
        }
      ],
      "source": [
        "#Y=WX+b\n",
        "W=regr.coef_#斜率\n",
        "W\n",
        "\n"
      ]
    },
    {
      "cell_type": "code",
      "execution_count": 15,
      "metadata": {
        "id": "QZsm4gDG-U39",
        "outputId": "58b267f5-6089-4c08-c3c6-1e8414ad2ada",
        "colab": {
          "base_uri": "https://localhost:8080/"
        }
      },
      "outputs": [
        {
          "output_type": "execute_result",
          "data": {
            "text/plain": [
              "0.8108126048533095"
            ]
          },
          "metadata": {},
          "execution_count": 15
        }
      ],
      "source": [
        "b=regr.intercept_ #截距\n",
        "b"
      ]
    },
    {
      "cell_type": "code",
      "execution_count": 16,
      "metadata": {
        "id": "Cwayp3Mu-U39",
        "outputId": "fa3e6da2-2f53-4c2e-e118-d80c17bb0f55",
        "colab": {
          "base_uri": "https://localhost:8080/"
        }
      },
      "outputs": [
        {
          "output_type": "execute_result",
          "data": {
            "text/plain": [
              "array([0.8108126 , 0.93574697, 1.06068133, 1.18561569, 1.31055005,\n",
              "       1.43548441, 1.56041877, 1.68535313, 1.8102875 , 1.93522186,\n",
              "       2.06015622, 2.18509058, 2.31002494, 2.4349593 , 2.55989366,\n",
              "       2.68482802, 2.80976239, 2.93469675, 3.05963111, 3.18456547,\n",
              "       3.30949983, 3.43443419, 3.55936855, 3.68430292, 3.80923728,\n",
              "       3.93417164, 4.059106  , 4.18404036, 4.30897472, 4.43390908,\n",
              "       4.55884345, 4.68377781, 4.80871217, 4.93364653, 5.05858089,\n",
              "       5.18351525, 5.30844961, 5.43338397, 5.55831834, 5.6832527 ,\n",
              "       5.80818706, 5.93312142, 6.05805578, 6.18299014, 6.3079245 ,\n",
              "       6.43285887, 6.55779323, 6.68272759, 6.80766195, 6.93259631])"
            ]
          },
          "metadata": {},
          "execution_count": 16
        }
      ],
      "source": [
        "Y"
      ]
    },
    {
      "cell_type": "code",
      "execution_count": 17,
      "metadata": {
        "scrolled": true,
        "id": "TEBgx_lk-U39",
        "outputId": "fda07e4e-2761-4d5b-edba-d34304c04057",
        "colab": {
          "base_uri": "https://localhost:8080/"
        }
      },
      "outputs": [
        {
          "output_type": "execute_result",
          "data": {
            "text/plain": [
              "array([4.48388283])"
            ]
          },
          "metadata": {},
          "execution_count": 17
        }
      ],
      "source": [
        "#可以將新的x資料帶入算出結果\n",
        "W*3+b"
      ]
    },
    {
      "cell_type": "code",
      "execution_count": 18,
      "metadata": {
        "id": "FfJtOHkh-U3-",
        "outputId": "6539a952-1718-4e87-aa22-b91795736c1c",
        "colab": {
          "base_uri": "https://localhost:8080/"
        }
      },
      "outputs": [
        {
          "output_type": "execute_result",
          "data": {
            "text/plain": [
              "array([0.48826944, 1.0917132 , 0.56431066, 1.63956828, 0.656723  ,\n",
              "       1.74468674, 1.26611962, 2.27050502, 2.03780274, 3.26172968,\n",
              "       2.86397052, 3.10770417, 0.58722604, 1.93820624, 1.7861111 ,\n",
              "       2.31429006, 3.40822138, 3.11266782, 2.30831657, 3.6796996 ,\n",
              "       3.3829386 , 3.09866929, 2.84614914, 3.96529934, 4.24141153,\n",
              "       5.15080765, 3.65089095, 4.03609382, 4.2556605 , 3.99770692,\n",
              "       4.55185067, 4.65712389, 4.46287834, 5.09585184, 5.74323375,\n",
              "       4.66870035, 5.31781932, 5.63150968, 5.13229267, 5.53274803,\n",
              "       4.74501468, 6.57931572, 5.80461721, 6.35454097, 6.49362987,\n",
              "       6.83913091, 6.01865569, 6.76124138, 7.25582933, 7.18576894])"
            ]
          },
          "metadata": {},
          "execution_count": 18
        }
      ],
      "source": [
        "y"
      ]
    },
    {
      "cell_type": "code",
      "execution_count": null,
      "metadata": {
        "id": "YK5zi8wB-U3-"
      },
      "outputs": [],
      "source": []
    }
  ],
  "metadata": {
    "anaconda-cloud": {},
    "kernelspec": {
      "display_name": "Python 3",
      "language": "python",
      "name": "python3"
    },
    "language_info": {
      "codemirror_mode": {
        "name": "ipython",
        "version": 3
      },
      "file_extension": ".py",
      "mimetype": "text/x-python",
      "name": "python",
      "nbconvert_exporter": "python",
      "pygments_lexer": "ipython3",
      "version": "3.8.8"
    },
    "colab": {
      "provenance": [],
      "include_colab_link": true
    }
  },
  "nbformat": 4,
  "nbformat_minor": 0
}