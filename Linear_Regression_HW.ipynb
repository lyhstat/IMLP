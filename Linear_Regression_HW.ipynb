{
  "cells": [
    {
      "cell_type": "markdown",
      "metadata": {
        "id": "view-in-github",
        "colab_type": "text"
      },
      "source": [
        "<a href=\"https://colab.research.google.com/github/lyhstat/IMLP/blob/main/Linear_Regression_HW.ipynb\" target=\"_parent\"><img src=\"https://colab.research.google.com/assets/colab-badge.svg\" alt=\"Open In Colab\"/></a>"
      ]
    },
    {
      "cell_type": "markdown",
      "metadata": {
        "id": "d32q8TeJ9znj"
      },
      "source": [
        "## 基礎題 - 算出斜率w與截距b\n",
        "\n",
        "y = wx + b\n",
        "\n",
        "記得計算前X須符合資料格式\n",
        "$$[x_1, x_2, \\ldots, x_{50}]$$\n",
        "\n",
        "==> \n",
        "\n",
        "$$[[x_1], [x_2], \\ldots, [x_{50}]]$$"
      ]
    },
    {
      "cell_type": "code",
      "execution_count": null,
      "metadata": {
        "id": "6LTWzDP59znr"
      },
      "outputs": [],
      "source": [
        "%matplotlib inline\n",
        "import numpy as np\n",
        "import matplotlib.pyplot as plt"
      ]
    },
    {
      "cell_type": "code",
      "execution_count": null,
      "metadata": {
        "id": "ESG55F-Q9znt"
      },
      "outputs": [],
      "source": [
        "x = np.array([ 0.        ,  0.20408163,  0.40816327,  0.6122449 ,  0.81632653,\n",
        "        1.02040816,  1.2244898 ,  1.42857143,  1.63265306,  1.83673469,\n",
        "        2.04081633,  2.24489796,  2.44897959,  2.65306122,  2.85714286,\n",
        "        3.06122449,  3.26530612,  3.46938776,  3.67346939,  3.87755102,\n",
        "        4.08163265,  4.28571429,  4.48979592,  4.69387755,  4.89795918,\n",
        "        5.10204082,  5.30612245,  5.51020408,  5.71428571,  5.91836735,\n",
        "        6.12244898,  6.32653061,  6.53061224,  6.73469388,  6.93877551,\n",
        "        7.14285714,  7.34693878,  7.55102041,  7.75510204,  7.95918367,\n",
        "        8.16326531,  8.36734694,  8.57142857,  8.7755102 ,  8.97959184,\n",
        "        9.18367347,  9.3877551 ,  9.59183673,  9.79591837, 10.        ])\n",
        "y = np.array([ 0.85848224, -0.10657947,  1.42771901,  0.53554778,  1.20216826,\n",
        "        1.81330509,  1.88362644,  2.23557653,  2.7384889 ,  3.41174583,\n",
        "        4.08573636,  3.82529502,  4.39723111,  4.8852381 ,  4.70092778,\n",
        "        4.66993962,  6.05133235,  5.44529881,  7.22571332,  6.79423911,\n",
        "        7.05424438,  7.00413058,  7.98149596,  7.00044008,  7.95903855,\n",
        "        9.96125238,  9.06040794,  9.56018295,  9.30035956,  9.26517614,\n",
        "        9.56401824, 10.07659844, 11.56755942, 11.38956185, 11.83586027,\n",
        "       12.45642786, 11.58403954, 11.60186428, 13.88486667, 13.35550112,\n",
        "       13.93938726, 13.31678277, 13.69551472, 14.76548676, 14.81731598,\n",
        "       14.9659187 , 15.19213921, 15.28195017, 15.97997265, 16.41258817])"
      ]
    },
    {
      "cell_type": "code",
      "execution_count": null,
      "metadata": {
        "id": "66HJibO_9znv"
      },
      "outputs": [],
      "source": [
        "#匯入在sklearn.linear_model套件裡面的LinearRegression模型\n",
        "#將模型工具指派給一變數做使用\n",
        "#注意轉換x得格式1D->2D\n",
        "#將x,y資料導入LinearRegression演算法做訓練\n",
        "#列印出訓練完成之函數的斜率與截距"
      ]
    },
    {
      "cell_type": "code",
      "source": [
        "from sklearn.linear_model import LinearRegression\n",
        "regr = LinearRegression()"
      ],
      "metadata": {
        "id": "jwctKKdfBzfX"
      },
      "execution_count": null,
      "outputs": []
    },
    {
      "cell_type": "code",
      "source": [
        "print(x.shape)\n",
        "X = x.reshape(-1,1)\n",
        "X.shape"
      ],
      "metadata": {
        "colab": {
          "base_uri": "https://localhost:8080/"
        },
        "id": "_NkT_2spCOL1",
        "outputId": "5f276f81-0fe4-4ea3-8d53-a533bf302bfc"
      },
      "execution_count": null,
      "outputs": [
        {
          "output_type": "stream",
          "name": "stdout",
          "text": [
            "(50,)\n"
          ]
        },
        {
          "output_type": "execute_result",
          "data": {
            "text/plain": [
              "(50, 1)"
            ]
          },
          "metadata": {},
          "execution_count": 10
        }
      ]
    },
    {
      "cell_type": "code",
      "source": [
        "regr.fit(X,y)"
      ],
      "metadata": {
        "colab": {
          "base_uri": "https://localhost:8080/"
        },
        "id": "K6Yh0MK8CQ3g",
        "outputId": "ec89d3d0-938e-4505-ed37-9790a56605be"
      },
      "execution_count": null,
      "outputs": [
        {
          "output_type": "execute_result",
          "data": {
            "text/plain": [
              "LinearRegression()"
            ]
          },
          "metadata": {},
          "execution_count": 11
        }
      ]
    },
    {
      "cell_type": "code",
      "source": [
        "Y = regr.predict(X)\n",
        "print(Y)"
      ],
      "metadata": {
        "colab": {
          "base_uri": "https://localhost:8080/"
        },
        "id": "YAp8Fb96CTuA",
        "outputId": "1dbecf5e-2368-46f9-d348-780e087e8393"
      },
      "execution_count": null,
      "outputs": [
        {
          "output_type": "stream",
          "name": "stdout",
          "text": [
            "[ 0.27312969  0.60313347  0.93313726  1.26314103  1.59314481  1.92314858\n",
            "  2.25315238  2.58315615  2.91315993  3.2431637   3.57316749  3.90317127\n",
            "  4.23317504  4.56317882  4.89318261  5.22318639  5.55319016  5.88319395\n",
            "  6.21319773  6.54320151  6.87320528  7.20320907  7.53321285  7.86321662\n",
            "  8.1932204   8.52322419  8.85322797  9.18323174  9.51323552  9.84323931\n",
            " 10.17324309 10.50324686 10.83325064 11.16325443 11.4932582  11.82326198\n",
            " 12.15326577 12.48326955 12.81327332 13.1432771  13.47328089 13.80328467\n",
            " 14.13328844 14.46329222 14.79329601 15.12329978 15.45330356 15.78330733\n",
            " 16.11331113 16.4433149 ]\n"
          ]
        }
      ]
    },
    {
      "cell_type": "code",
      "source": [
        "regr.get_params()\n",
        "#斜率\n",
        "W=regr.coef_\n",
        "W"
      ],
      "metadata": {
        "colab": {
          "base_uri": "https://localhost:8080/"
        },
        "id": "a-k2qDehBW_R",
        "outputId": "76ea9580-537e-4b8e-b17a-fefbb0a8322e"
      },
      "execution_count": null,
      "outputs": [
        {
          "output_type": "execute_result",
          "data": {
            "text/plain": [
              "array([1.61701852])"
            ]
          },
          "metadata": {},
          "execution_count": 16
        }
      ]
    },
    {
      "cell_type": "code",
      "source": [
        "#截距\n",
        "b=regr.intercept_ \n",
        "b"
      ],
      "metadata": {
        "colab": {
          "base_uri": "https://localhost:8080/"
        },
        "id": "L0uXd4qlCmXg",
        "outputId": "88cee562-ad5a-4516-8f0d-8d2f7c73b6c1"
      },
      "execution_count": null,
      "outputs": [
        {
          "output_type": "execute_result",
          "data": {
            "text/plain": [
              "0.2731296894942137"
            ]
          },
          "metadata": {},
          "execution_count": 17
        }
      ]
    },
    {
      "cell_type": "markdown",
      "metadata": {
        "id": "3o4tAZms9znw"
      },
      "source": [
        "## 進階題 - 切割資料集分別做訓練與預測(訓練資料80%、測試資料20%)\n"
      ]
    },
    {
      "cell_type": "code",
      "execution_count": 5,
      "metadata": {
        "id": "aNfrVi-i9znw"
      },
      "outputs": [],
      "source": [
        "%matplotlib inline\n",
        "import numpy as np\n",
        "import matplotlib.pyplot as plt\n",
        "\n",
        "x = np.array([ 0.        ,  0.20408163,  0.40816327,  0.6122449 ,  0.81632653,\n",
        "        1.02040816,  1.2244898 ,  1.42857143,  1.63265306,  1.83673469,\n",
        "        2.04081633,  2.24489796,  2.44897959,  2.65306122,  2.85714286,\n",
        "        3.06122449,  3.26530612,  3.46938776,  3.67346939,  3.87755102,\n",
        "        4.08163265,  4.28571429,  4.48979592,  4.69387755,  4.89795918,\n",
        "        5.10204082,  5.30612245,  5.51020408,  5.71428571,  5.91836735,\n",
        "        6.12244898,  6.32653061,  6.53061224,  6.73469388,  6.93877551,\n",
        "        7.14285714,  7.34693878,  7.55102041,  7.75510204,  7.95918367,\n",
        "        8.16326531,  8.36734694,  8.57142857,  8.7755102 ,  8.97959184,\n",
        "        9.18367347,  9.3877551 ,  9.59183673,  9.79591837, 10.        ])\n",
        "y = np.array([ 0.85848224, -0.10657947,  1.42771901,  0.53554778,  1.20216826,\n",
        "        1.81330509,  1.88362644,  2.23557653,  2.7384889 ,  3.41174583,\n",
        "        4.08573636,  3.82529502,  4.39723111,  4.8852381 ,  4.70092778,\n",
        "        4.66993962,  6.05133235,  5.44529881,  7.22571332,  6.79423911,\n",
        "        7.05424438,  7.00413058,  7.98149596,  7.00044008,  7.95903855,\n",
        "        9.96125238,  9.06040794,  9.56018295,  9.30035956,  9.26517614,\n",
        "        9.56401824, 10.07659844, 11.56755942, 11.38956185, 11.83586027,\n",
        "       12.45642786, 11.58403954, 11.60186428, 13.88486667, 13.35550112,\n",
        "       13.93938726, 13.31678277, 13.69551472, 14.76548676, 14.81731598,\n",
        "       14.9659187 , 15.19213921, 15.28195017, 15.97997265, 16.41258817])\n"
      ]
    },
    {
      "cell_type": "code",
      "execution_count": null,
      "metadata": {
        "id": "KqQLMJv19znx"
      },
      "outputs": [],
      "source": [
        "#匯入在sklearn.linear_model套件裡面的LinearRegression模型\n",
        "#匯入在sklearn.model_selection套件裡面的train_test_split模組\n",
        "#切割數據集(訓練資料80%、測試資料20%，設定random_state=20)\n",
        "#畫出訓練資料集的matplotlib圖形m"
      ]
    },
    {
      "cell_type": "code",
      "source": [
        "from sklearn.model_selection import train_test_split\n",
        "from sklearn.linear_model import LinearRegression"
      ],
      "metadata": {
        "id": "E-By6vyuEfpO"
      },
      "execution_count": 6,
      "outputs": []
    },
    {
      "cell_type": "code",
      "source": [
        "x = np.linspace(0,5,50)\n",
        "y= 1.2*x +0.8+0.6*np.random.randn(50)\n",
        "x_train, x_test, y_train, y_test = train_test_split(x, y, test_size=0.2, random_state=20)\n",
        "print(x_train)"
      ],
      "metadata": {
        "colab": {
          "base_uri": "https://localhost:8080/"
        },
        "id": "eY2Dgafd8QVI",
        "outputId": "eb1ae506-b3f3-45c0-c6bd-82e02cbee279"
      },
      "execution_count": 8,
      "outputs": [
        {
          "output_type": "stream",
          "name": "stdout",
          "text": [
            "[4.08163265 1.73469388 1.83673469 0.         2.75510204 3.36734694\n",
            " 3.67346939 4.28571429 1.02040816 0.30612245 4.18367347 1.32653061\n",
            " 4.69387755 0.20408163 3.87755102 3.97959184 0.51020408 4.3877551\n",
            " 3.7755102  3.06122449 0.6122449  2.95918367 1.63265306 1.93877551\n",
            " 5.         4.48979592 2.14285714 3.26530612 3.46938776 0.71428571\n",
            " 2.24489796 1.12244898 2.04081633 0.91836735 4.89795918 2.85714286\n",
            " 3.16326531 1.53061224 2.65306122 3.57142857]\n"
          ]
        }
      ]
    },
    {
      "cell_type": "code",
      "source": [
        "y"
      ],
      "metadata": {
        "colab": {
          "base_uri": "https://localhost:8080/"
        },
        "id": "Rx59VZSC9dRz",
        "outputId": "52ee5448-fad6-4225-f029-c9d6da7bac71"
      },
      "execution_count": 9,
      "outputs": [
        {
          "output_type": "execute_result",
          "data": {
            "text/plain": [
              "array([0.81879662, 1.17250802, 1.07732724, 1.16820191, 1.77329817,\n",
              "       1.21003219, 1.19559403, 1.27821601, 1.62083944, 2.38718595,\n",
              "       2.10396748, 1.85161678, 1.66747931, 3.17613222, 2.21554763,\n",
              "       3.61767478, 3.37125485, 2.88685653, 2.30309748, 3.20435882,\n",
              "       2.61249075, 4.66137157, 3.95532408, 3.13340342, 4.58421501,\n",
              "       3.87852303, 4.61292155, 4.70928785, 3.91735606, 3.79904492,\n",
              "       4.59735982, 3.96697044, 5.67749896, 3.64004777, 5.08604249,\n",
              "       5.85224398, 4.73481259, 5.56709322, 5.43902505, 5.58708383,\n",
              "       5.55689805, 5.19741873, 7.53272361, 6.85057899, 6.92604764,\n",
              "       6.12450113, 6.94750365, 7.58038038, 7.56876909, 7.38389322])"
            ]
          },
          "metadata": {},
          "execution_count": 9
        }
      ]
    },
    {
      "cell_type": "code",
      "source": [
        "plt.scatter(x_train, y_train)"
      ],
      "metadata": {
        "colab": {
          "base_uri": "https://localhost:8080/",
          "height": 283
        },
        "id": "dp4vhaIH96q0",
        "outputId": "7d6cc583-1e58-479b-a903-4665b242b9ed"
      },
      "execution_count": 10,
      "outputs": [
        {
          "output_type": "execute_result",
          "data": {
            "text/plain": [
              "<matplotlib.collections.PathCollection at 0x7ffb88806e20>"
            ]
          },
          "metadata": {},
          "execution_count": 10
        },
        {
          "output_type": "display_data",
          "data": {
            "text/plain": [
              "<Figure size 432x288 with 1 Axes>"
            ],
            "image/png": "[encoded data removed]"
          },
          "metadata": {
            "needs_background": "light"
          }
        }
      ]
    },
    {
      "cell_type": "markdown",
      "metadata": {
        "id": "OCW-1gKE9zny"
      },
      "source": [
        "## 用訓練資料來 fit 函數\n",
        "1. 只用訓練資料集的資料進行linear regression演算法<br>\n",
        "2. 並計算出訓練階段的MSE\n",
        "3. 畫出目標點(藍色)與預測點(紅色)的對應圖\n",
        "![](images/LR_train.PNG)"
      ]
    },
    {
      "cell_type": "code",
      "execution_count": 15,
      "metadata": {
        "id": "3uLXbB149znz",
        "colab": {
          "base_uri": "https://localhost:8080/"
        },
        "outputId": "1d8aac53-e7af-47c0-bad2-c7b62268f2e9"
      },
      "outputs": [
        {
          "output_type": "stream",
          "name": "stdout",
          "text": [
            "Coefficients: [1.2880506]\n",
            "interception: 0.7426211065178276\n"
          ]
        }
      ],
      "source": [
        "regr = LinearRegression()\n",
        "X_train = x_train.reshape(-1,1)\n",
        "regr.fit(X_train,y_train)\n",
        "print('Coefficients:',regr.coef_)\n",
        "print('interception:',regr.intercept_)\n",
        "Y_train = regr.predict(X_train)"
      ]
    },
    {
      "cell_type": "code",
      "execution_count": 16,
      "metadata": {
        "id": "EhaeqHvD9znz",
        "colab": {
          "base_uri": "https://localhost:8080/"
        },
        "outputId": "90ac0d65-d378-4c8f-8651-84bb007ed12c"
      },
      "outputs": [
        {
          "output_type": "stream",
          "name": "stdout",
          "text": [
            "0.3462506741842085\n"
          ]
        }
      ],
      "source": [
        "mse = np.sum((Y_train-y_train)**2)/len(y_train)\n",
        "print(mse)"
      ]
    },
    {
      "cell_type": "code",
      "source": [
        "plt.scatter(x_train,y_train)\n",
        "plt.plot(x_train,Y_train,'r')"
      ],
      "metadata": {
        "colab": {
          "base_uri": "https://localhost:8080/",
          "height": 283
        },
        "id": "_VX8l3Gs_ykH",
        "outputId": "07010059-f90b-41e4-cbac-0616d618e0b1"
      },
      "execution_count": 18,
      "outputs": [
        {
          "output_type": "execute_result",
          "data": {
            "text/plain": [
              "[<matplotlib.lines.Line2D at 0x7ffb882250a0>]"
            ]
          },
          "metadata": {},
          "execution_count": 18
        },
        {
          "output_type": "display_data",
          "data": {
            "text/plain": [
              "<Figure size 432x288 with 1 Axes>"
            ],
            "image/png": "[encoded data removed]"
          },
          "metadata": {
            "needs_background": "light"
          }
        }
      ]
    },
    {
      "cell_type": "markdown",
      "metadata": {
        "id": "8Xy3aQAm9znz"
      },
      "source": [
        "## 將訓練出來的函數預測測試集的X值\n",
        "1. 使用剛剛訓練出來的模型進行測試資料集的資料預測*注意reshape<br>\n",
        "使用X = 2.44897959，預測出來數值應該為 4.3025375<br>\n",
        "所有測試集資料\n",
        "$$\\widehat{y}=xw+b=w_{1}x_{1}+b$$"
      ]
    },
    {
      "cell_type": "code",
      "execution_count": 54,
      "metadata": {
        "id": "Sga_hsRE9zn0",
        "colab": {
          "base_uri": "https://localhost:8080/"
        },
        "outputId": "0fdfd95d-ab8f-4ed9-93ab-c621d269a066"
      },
      "outputs": [
        {
          "output_type": "stream",
          "name": "stdout",
          "text": [
            "[2.31982592 2.58269339 1.26835604 1.79409098 6.65713915 0.87405484\n",
            " 4.02846447 3.89703073 6.92000662 3.765597  ]\n"
          ]
        }
      ],
      "source": [
        "X_test = x_test.reshape(-1,1)\n",
        "Y_test = regr.predict(X_test)\n",
        "print(Y_test)"
      ]
    },
    {
      "cell_type": "code",
      "execution_count": 55,
      "metadata": {
        "id": "Lu_M7quW9zn0",
        "colab": {
          "base_uri": "https://localhost:8080/"
        },
        "outputId": "67b1c9e1-82c2-4631-f48d-a833fcc61a05"
      },
      "outputs": [
        {
          "output_type": "execute_result",
          "data": {
            "text/plain": [
              "array([[2.31982592],\n",
              "       [2.58269339],\n",
              "       [1.26835604],\n",
              "       [1.79409098],\n",
              "       [6.65713915],\n",
              "       [0.87405484],\n",
              "       [4.02846447],\n",
              "       [3.89703073],\n",
              "       [6.92000662],\n",
              "       [3.765597  ]])"
            ]
          },
          "metadata": {},
          "execution_count": 55
        }
      ],
      "source": [
        "W=regr.coef_\n",
        "b=regr.intercept_\n",
        "W*X_test+b"
      ]
    },
    {
      "cell_type": "markdown",
      "metadata": {
        "id": "qg9yQzs59zn0"
      },
      "source": [
        "2. 並計算出測試階段的MSE"
      ]
    },
    {
      "cell_type": "code",
      "execution_count": 56,
      "metadata": {
        "id": "iygo4Mi19zn1",
        "colab": {
          "base_uri": "https://localhost:8080/"
        },
        "outputId": "e96d418b-ecae-49cf-85b6-49355e092da4"
      },
      "outputs": [
        {
          "output_type": "stream",
          "name": "stdout",
          "text": [
            "0.3462506741842085\n"
          ]
        }
      ],
      "source": [
        "mse = np.sum((Y_train-y_train)**2)/len(y_train)\n",
        "print(mse)"
      ]
    },
    {
      "cell_type": "markdown",
      "metadata": {
        "id": "eP6j7BpF9zn1"
      },
      "source": [
        "3. 畫出目標點(藍色)與預測點(紅色)的對應圖\n",
        "![](images/LR_test.PNG)"
      ]
    },
    {
      "cell_type": "code",
      "execution_count": 59,
      "metadata": {
        "id": "15a-xHsq9zn1",
        "colab": {
          "base_uri": "https://localhost:8080/",
          "height": 657
        },
        "outputId": "d0b861bf-6d0b-4802-a9ce-dd5064f607e6"
      },
      "outputs": [
        {
          "output_type": "error",
          "ename": "ValueError",
          "evalue": "ignored",
          "traceback": [
            "\u001b[0;31m---------------------------------------------------------------------------\u001b[0m",
            "\u001b[0;31mValueError\u001b[0m                                Traceback (most recent call last)",
            "\u001b[0;32m<ipython-input-59-d29dfc0b7f04>\u001b[0m in \u001b[0;36m<module>\u001b[0;34m\u001b[0m\n\u001b[1;32m      3\u001b[0m \u001b[0mplt\u001b[0m\u001b[0;34m.\u001b[0m\u001b[0mylabel\u001b[0m\u001b[0;34m(\u001b[0m\u001b[0;34m'y'\u001b[0m\u001b[0;34m)\u001b[0m\u001b[0;34m\u001b[0m\u001b[0;34m\u001b[0m\u001b[0m\n\u001b[1;32m      4\u001b[0m \u001b[0mplt\u001b[0m\u001b[0;34m.\u001b[0m\u001b[0mscatter\u001b[0m\u001b[0;34m(\u001b[0m\u001b[0mx_train\u001b[0m\u001b[0;34m,\u001b[0m\u001b[0my_train\u001b[0m\u001b[0;34m)\u001b[0m\u001b[0;34m\u001b[0m\u001b[0;34m\u001b[0m\u001b[0m\n\u001b[0;32m----> 5\u001b[0;31m \u001b[0mplt\u001b[0m\u001b[0;34m.\u001b[0m\u001b[0mscatter\u001b[0m\u001b[0;34m(\u001b[0m\u001b[0mx\u001b[0m\u001b[0;34m,\u001b[0m\u001b[0my_train\u001b[0m\u001b[0;34m,\u001b[0m\u001b[0;34m'r'\u001b[0m\u001b[0;34m)\u001b[0m\u001b[0;34m\u001b[0m\u001b[0;34m\u001b[0m\u001b[0m\n\u001b[0m\u001b[1;32m      6\u001b[0m \u001b[0mplt\u001b[0m\u001b[0;34m.\u001b[0m\u001b[0mlegend\u001b[0m\u001b[0;34m(\u001b[0m\u001b[0;34m)\u001b[0m\u001b[0;34m\u001b[0m\u001b[0;34m\u001b[0m\u001b[0m\n",
            "\u001b[0;32m/usr/local/lib/python3.8/dist-packages/matplotlib/pyplot.py\u001b[0m in \u001b[0;36mscatter\u001b[0;34m(x, y, s, c, marker, cmap, norm, vmin, vmax, alpha, linewidths, verts, edgecolors, plotnonfinite, data, **kwargs)\u001b[0m\n\u001b[1;32m   2809\u001b[0m         \u001b[0mverts\u001b[0m\u001b[0;34m=\u001b[0m\u001b[0mcbook\u001b[0m\u001b[0;34m.\u001b[0m\u001b[0mdeprecation\u001b[0m\u001b[0;34m.\u001b[0m\u001b[0m_deprecated_parameter\u001b[0m\u001b[0;34m,\u001b[0m\u001b[0;34m\u001b[0m\u001b[0;34m\u001b[0m\u001b[0m\n\u001b[1;32m   2810\u001b[0m         edgecolors=None, *, plotnonfinite=False, data=None, **kwargs):\n\u001b[0;32m-> 2811\u001b[0;31m     __ret = gca().scatter(\n\u001b[0m\u001b[1;32m   2812\u001b[0m         \u001b[0mx\u001b[0m\u001b[0;34m,\u001b[0m \u001b[0my\u001b[0m\u001b[0;34m,\u001b[0m \u001b[0ms\u001b[0m\u001b[0;34m=\u001b[0m\u001b[0ms\u001b[0m\u001b[0;34m,\u001b[0m \u001b[0mc\u001b[0m\u001b[0;34m=\u001b[0m\u001b[0mc\u001b[0m\u001b[0;34m,\u001b[0m \u001b[0mmarker\u001b[0m\u001b[0;34m=\u001b[0m\u001b[0mmarker\u001b[0m\u001b[0;34m,\u001b[0m \u001b[0mcmap\u001b[0m\u001b[0;34m=\u001b[0m\u001b[0mcmap\u001b[0m\u001b[0;34m,\u001b[0m \u001b[0mnorm\u001b[0m\u001b[0;34m=\u001b[0m\u001b[0mnorm\u001b[0m\u001b[0;34m,\u001b[0m\u001b[0;34m\u001b[0m\u001b[0;34m\u001b[0m\u001b[0m\n\u001b[1;32m   2813\u001b[0m         \u001b[0mvmin\u001b[0m\u001b[0;34m=\u001b[0m\u001b[0mvmin\u001b[0m\u001b[0;34m,\u001b[0m \u001b[0mvmax\u001b[0m\u001b[0;34m=\u001b[0m\u001b[0mvmax\u001b[0m\u001b[0;34m,\u001b[0m \u001b[0malpha\u001b[0m\u001b[0;34m=\u001b[0m\u001b[0malpha\u001b[0m\u001b[0;34m,\u001b[0m \u001b[0mlinewidths\u001b[0m\u001b[0;34m=\u001b[0m\u001b[0mlinewidths\u001b[0m\u001b[0;34m,\u001b[0m\u001b[0;34m\u001b[0m\u001b[0;34m\u001b[0m\u001b[0m\n",
            "\u001b[0;32m/usr/local/lib/python3.8/dist-packages/matplotlib/__init__.py\u001b[0m in \u001b[0;36minner\u001b[0;34m(ax, data, *args, **kwargs)\u001b[0m\n\u001b[1;32m   1563\u001b[0m     \u001b[0;32mdef\u001b[0m \u001b[0minner\u001b[0m\u001b[0;34m(\u001b[0m\u001b[0max\u001b[0m\u001b[0;34m,\u001b[0m \u001b[0;34m*\u001b[0m\u001b[0margs\u001b[0m\u001b[0;34m,\u001b[0m \u001b[0mdata\u001b[0m\u001b[0;34m=\u001b[0m\u001b[0;32mNone\u001b[0m\u001b[0;34m,\u001b[0m \u001b[0;34m**\u001b[0m\u001b[0mkwargs\u001b[0m\u001b[0;34m)\u001b[0m\u001b[0;34m:\u001b[0m\u001b[0;34m\u001b[0m\u001b[0;34m\u001b[0m\u001b[0m\n\u001b[1;32m   1564\u001b[0m         \u001b[0;32mif\u001b[0m \u001b[0mdata\u001b[0m \u001b[0;32mis\u001b[0m \u001b[0;32mNone\u001b[0m\u001b[0;34m:\u001b[0m\u001b[0;34m\u001b[0m\u001b[0;34m\u001b[0m\u001b[0m\n\u001b[0;32m-> 1565\u001b[0;31m             \u001b[0;32mreturn\u001b[0m \u001b[0mfunc\u001b[0m\u001b[0;34m(\u001b[0m\u001b[0max\u001b[0m\u001b[0;34m,\u001b[0m \u001b[0;34m*\u001b[0m\u001b[0mmap\u001b[0m\u001b[0;34m(\u001b[0m\u001b[0msanitize_sequence\u001b[0m\u001b[0;34m,\u001b[0m \u001b[0margs\u001b[0m\u001b[0;34m)\u001b[0m\u001b[0;34m,\u001b[0m \u001b[0;34m**\u001b[0m\u001b[0mkwargs\u001b[0m\u001b[0;34m)\u001b[0m\u001b[0;34m\u001b[0m\u001b[0;34m\u001b[0m\u001b[0m\n\u001b[0m\u001b[1;32m   1566\u001b[0m \u001b[0;34m\u001b[0m\u001b[0m\n\u001b[1;32m   1567\u001b[0m         \u001b[0mbound\u001b[0m \u001b[0;34m=\u001b[0m \u001b[0mnew_sig\u001b[0m\u001b[0;34m.\u001b[0m\u001b[0mbind\u001b[0m\u001b[0;34m(\u001b[0m\u001b[0max\u001b[0m\u001b[0;34m,\u001b[0m \u001b[0;34m*\u001b[0m\u001b[0margs\u001b[0m\u001b[0;34m,\u001b[0m \u001b[0;34m**\u001b[0m\u001b[0mkwargs\u001b[0m\u001b[0;34m)\u001b[0m\u001b[0;34m\u001b[0m\u001b[0;34m\u001b[0m\u001b[0m\n",
            "\u001b[0;32m/usr/local/lib/python3.8/dist-packages/matplotlib/cbook/deprecation.py\u001b[0m in \u001b[0;36mwrapper\u001b[0;34m(*args, **kwargs)\u001b[0m\n\u001b[1;32m    356\u001b[0m                 \u001b[0;34mf\"%(removal)s.  If any parameter follows {name!r}, they \"\u001b[0m\u001b[0;34m\u001b[0m\u001b[0;34m\u001b[0m\u001b[0m\n\u001b[1;32m    357\u001b[0m                 f\"should be pass as keyword, not positionally.\")\n\u001b[0;32m--> 358\u001b[0;31m         \u001b[0;32mreturn\u001b[0m \u001b[0mfunc\u001b[0m\u001b[0;34m(\u001b[0m\u001b[0;34m*\u001b[0m\u001b[0margs\u001b[0m\u001b[0;34m,\u001b[0m \u001b[0;34m**\u001b[0m\u001b[0mkwargs\u001b[0m\u001b[0;34m)\u001b[0m\u001b[0;34m\u001b[0m\u001b[0;34m\u001b[0m\u001b[0m\n\u001b[0m\u001b[1;32m    359\u001b[0m \u001b[0;34m\u001b[0m\u001b[0m\n\u001b[1;32m    360\u001b[0m     \u001b[0;32mreturn\u001b[0m \u001b[0mwrapper\u001b[0m\u001b[0;34m\u001b[0m\u001b[0;34m\u001b[0m\u001b[0m\n",
            "\u001b[0;32m/usr/local/lib/python3.8/dist-packages/matplotlib/axes/_axes.py\u001b[0m in \u001b[0;36mscatter\u001b[0;34m(self, x, y, s, c, marker, cmap, norm, vmin, vmax, alpha, linewidths, verts, edgecolors, plotnonfinite, **kwargs)\u001b[0m\n\u001b[1;32m   4389\u001b[0m         \u001b[0my\u001b[0m \u001b[0;34m=\u001b[0m \u001b[0mnp\u001b[0m\u001b[0;34m.\u001b[0m\u001b[0mma\u001b[0m\u001b[0;34m.\u001b[0m\u001b[0mravel\u001b[0m\u001b[0;34m(\u001b[0m\u001b[0my\u001b[0m\u001b[0;34m)\u001b[0m\u001b[0;34m\u001b[0m\u001b[0;34m\u001b[0m\u001b[0m\n\u001b[1;32m   4390\u001b[0m         \u001b[0;32mif\u001b[0m \u001b[0mx\u001b[0m\u001b[0;34m.\u001b[0m\u001b[0msize\u001b[0m \u001b[0;34m!=\u001b[0m \u001b[0my\u001b[0m\u001b[0;34m.\u001b[0m\u001b[0msize\u001b[0m\u001b[0;34m:\u001b[0m\u001b[0;34m\u001b[0m\u001b[0;34m\u001b[0m\u001b[0m\n\u001b[0;32m-> 4391\u001b[0;31m             \u001b[0;32mraise\u001b[0m \u001b[0mValueError\u001b[0m\u001b[0;34m(\u001b[0m\u001b[0;34m\"x and y must be the same size\"\u001b[0m\u001b[0;34m)\u001b[0m\u001b[0;34m\u001b[0m\u001b[0;34m\u001b[0m\u001b[0m\n\u001b[0m\u001b[1;32m   4392\u001b[0m \u001b[0;34m\u001b[0m\u001b[0m\n\u001b[1;32m   4393\u001b[0m         \u001b[0;32mif\u001b[0m \u001b[0ms\u001b[0m \u001b[0;32mis\u001b[0m \u001b[0;32mNone\u001b[0m\u001b[0;34m:\u001b[0m\u001b[0;34m\u001b[0m\u001b[0;34m\u001b[0m\u001b[0m\n",
            "\u001b[0;31mValueError\u001b[0m: x and y must be the same size"
          ]
        },
        {
          "output_type": "display_data",
          "data": {
            "text/plain": [
              "<Figure size 432x288 with 1 Axes>"
            ],
            "image/png": "[encoded data removed]"
          },
          "metadata": {
            "needs_background": "light"
          }
        }
      ],
      "source": [
        "x=2.44708959\n",
        "plt.xlabel('x')\n",
        "plt.ylabel('y')\n",
        "plt.scatter(x_train,y_train)\n",
        "plt.scatter(x,y_train,'r')\n",
        "plt.legend()"
      ]
    },
    {
      "cell_type": "code",
      "execution_count": null,
      "metadata": {
        "id": "EwHC5a699zn1"
      },
      "outputs": [],
      "source": []
    }
  ],
  "metadata": {
    "kernelspec": {
      "display_name": "Python 3",
      "language": "python",
      "name": "python3"
    },
    "language_info": {
      "codemirror_mode": {
        "name": "ipython",
        "version": 3
      },
      "file_extension": ".py",
      "mimetype": "text/x-python",
      "name": "python",
      "nbconvert_exporter": "python",
      "pygments_lexer": "ipython3",
      "version": "3.8.8"
    },
    "colab": {
      "provenance": [],
      "include_colab_link": true
    }
  },
  "nbformat": 4,
  "nbformat_minor": 0
}