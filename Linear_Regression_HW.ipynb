{
  "cells": [
    {
      "cell_type": "markdown",
      "metadata": {
        "id": "view-in-github",
        "colab_type": "text"
      },
      "source": [
        "<a href=\"https://colab.research.google.com/github/lyhstat/IMLP/blob/main/Linear_Regression_HW.ipynb\" target=\"_parent\"><img src=\"https://colab.research.google.com/assets/colab-badge.svg\" alt=\"Open In Colab\"/></a>"
      ]
    },
    {
      "cell_type": "markdown",
      "metadata": {
        "id": "d32q8TeJ9znj"
      },
      "source": [
        "## 基礎題 - 算出斜率w與截距b\n",
        "\n",
        "y = wx + b\n",
        "\n",
        "記得計算前X須符合資料格式\n",
        "$$[x_1, x_2, \\ldots, x_{50}]$$\n",
        "\n",
        "==> \n",
        "\n",
        "$$[[x_1], [x_2], \\ldots, [x_{50}]]$$"
      ]
    },
    {
      "cell_type": "code",
      "execution_count": null,
      "metadata": {
        "id": "6LTWzDP59znr"
      },
      "outputs": [],
      "source": [
        "%matplotlib inline\n",
        "import numpy as np\n",
        "import matplotlib.pyplot as plt"
      ]
    },
    {
      "cell_type": "code",
      "execution_count": null,
      "metadata": {
        "id": "ESG55F-Q9znt"
      },
      "outputs": [],
      "source": [
        "x = np.array([ 0.        ,  0.20408163,  0.40816327,  0.6122449 ,  0.81632653,\n",
        "        1.02040816,  1.2244898 ,  1.42857143,  1.63265306,  1.83673469,\n",
        "        2.04081633,  2.24489796,  2.44897959,  2.65306122,  2.85714286,\n",
        "        3.06122449,  3.26530612,  3.46938776,  3.67346939,  3.87755102,\n",
        "        4.08163265,  4.28571429,  4.48979592,  4.69387755,  4.89795918,\n",
        "        5.10204082,  5.30612245,  5.51020408,  5.71428571,  5.91836735,\n",
        "        6.12244898,  6.32653061,  6.53061224,  6.73469388,  6.93877551,\n",
        "        7.14285714,  7.34693878,  7.55102041,  7.75510204,  7.95918367,\n",
        "        8.16326531,  8.36734694,  8.57142857,  8.7755102 ,  8.97959184,\n",
        "        9.18367347,  9.3877551 ,  9.59183673,  9.79591837, 10.        ])\n",
        "y = np.array([ 0.85848224, -0.10657947,  1.42771901,  0.53554778,  1.20216826,\n",
        "        1.81330509,  1.88362644,  2.23557653,  2.7384889 ,  3.41174583,\n",
        "        4.08573636,  3.82529502,  4.39723111,  4.8852381 ,  4.70092778,\n",
        "        4.66993962,  6.05133235,  5.44529881,  7.22571332,  6.79423911,\n",
        "        7.05424438,  7.00413058,  7.98149596,  7.00044008,  7.95903855,\n",
        "        9.96125238,  9.06040794,  9.56018295,  9.30035956,  9.26517614,\n",
        "        9.56401824, 10.07659844, 11.56755942, 11.38956185, 11.83586027,\n",
        "       12.45642786, 11.58403954, 11.60186428, 13.88486667, 13.35550112,\n",
        "       13.93938726, 13.31678277, 13.69551472, 14.76548676, 14.81731598,\n",
        "       14.9659187 , 15.19213921, 15.28195017, 15.97997265, 16.41258817])"
      ]
    },
    {
      "cell_type": "code",
      "execution_count": null,
      "metadata": {
        "id": "66HJibO_9znv"
      },
      "outputs": [],
      "source": [
        "#匯入在sklearn.linear_model套件裡面的LinearRegression模型\n",
        "#將模型工具指派給一變數做使用\n",
        "#注意轉換x得格式1D->2D\n",
        "#將x,y資料導入LinearRegression演算法做訓練\n",
        "#列印出訓練完成之函數的斜率與截距"
      ]
    },
    {
      "cell_type": "code",
      "source": [
        "from sklearn.linear_model import LinearRegression\n",
        "regr = LinearRegression()"
      ],
      "metadata": {
        "id": "jwctKKdfBzfX"
      },
      "execution_count": null,
      "outputs": []
    },
    {
      "cell_type": "code",
      "source": [
        "print(x.shape)\n",
        "X = x.reshape(-1,1)\n",
        "X.shape"
      ],
      "metadata": {
        "colab": {
          "base_uri": "https://localhost:8080/"
        },
        "id": "_NkT_2spCOL1",
        "outputId": "5f276f81-0fe4-4ea3-8d53-a533bf302bfc"
      },
      "execution_count": null,
      "outputs": [
        {
          "output_type": "stream",
          "name": "stdout",
          "text": [
            "(50,)\n"
          ]
        },
        {
          "output_type": "execute_result",
          "data": {
            "text/plain": [
              "(50, 1)"
            ]
          },
          "metadata": {},
          "execution_count": 10
        }
      ]
    },
    {
      "cell_type": "code",
      "source": [
        "regr.fit(X,y)"
      ],
      "metadata": {
        "colab": {
          "base_uri": "https://localhost:8080/"
        },
        "id": "K6Yh0MK8CQ3g",
        "outputId": "ec89d3d0-938e-4505-ed37-9790a56605be"
      },
      "execution_count": null,
      "outputs": [
        {
          "output_type": "execute_result",
          "data": {
            "text/plain": [
              "LinearRegression()"
            ]
          },
          "metadata": {},
          "execution_count": 11
        }
      ]
    },
    {
      "cell_type": "code",
      "source": [
        "Y = regr.predict(X)\n",
        "print(Y)"
      ],
      "metadata": {
        "colab": {
          "base_uri": "https://localhost:8080/"
        },
        "id": "YAp8Fb96CTuA",
        "outputId": "1dbecf5e-2368-46f9-d348-780e087e8393"
      },
      "execution_count": null,
      "outputs": [
        {
          "output_type": "stream",
          "name": "stdout",
          "text": [
            "[ 0.27312969  0.60313347  0.93313726  1.26314103  1.59314481  1.92314858\n",
            "  2.25315238  2.58315615  2.91315993  3.2431637   3.57316749  3.90317127\n",
            "  4.23317504  4.56317882  4.89318261  5.22318639  5.55319016  5.88319395\n",
            "  6.21319773  6.54320151  6.87320528  7.20320907  7.53321285  7.86321662\n",
            "  8.1932204   8.52322419  8.85322797  9.18323174  9.51323552  9.84323931\n",
            " 10.17324309 10.50324686 10.83325064 11.16325443 11.4932582  11.82326198\n",
            " 12.15326577 12.48326955 12.81327332 13.1432771  13.47328089 13.80328467\n",
            " 14.13328844 14.46329222 14.79329601 15.12329978 15.45330356 15.78330733\n",
            " 16.11331113 16.4433149 ]\n"
          ]
        }
      ]
    },
    {
      "cell_type": "code",
      "source": [
        "regr.get_params()\n",
        "#斜率\n",
        "W=regr.coef_\n",
        "W"
      ],
      "metadata": {
        "colab": {
          "base_uri": "https://localhost:8080/"
        },
        "id": "a-k2qDehBW_R",
        "outputId": "76ea9580-537e-4b8e-b17a-fefbb0a8322e"
      },
      "execution_count": null,
      "outputs": [
        {
          "output_type": "execute_result",
          "data": {
            "text/plain": [
              "array([1.61701852])"
            ]
          },
          "metadata": {},
          "execution_count": 16
        }
      ]
    },
    {
      "cell_type": "code",
      "source": [
        "#截距\n",
        "b=regr.intercept_ \n",
        "b"
      ],
      "metadata": {
        "colab": {
          "base_uri": "https://localhost:8080/"
        },
        "id": "L0uXd4qlCmXg",
        "outputId": "88cee562-ad5a-4516-8f0d-8d2f7c73b6c1"
      },
      "execution_count": null,
      "outputs": [
        {
          "output_type": "execute_result",
          "data": {
            "text/plain": [
              "0.2731296894942137"
            ]
          },
          "metadata": {},
          "execution_count": 17
        }
      ]
    },
    {
      "cell_type": "markdown",
      "metadata": {
        "id": "3o4tAZms9znw"
      },
      "source": [
        "## 進階題 - 切割資料集分別做訓練與預測(訓練資料80%、測試資料20%)\n"
      ]
    },
    {
      "cell_type": "code",
      "execution_count": 19,
      "metadata": {
        "id": "aNfrVi-i9znw"
      },
      "outputs": [],
      "source": [
        "%matplotlib inline\n",
        "import numpy as np\n",
        "import matplotlib.pyplot as plt\n",
        "\n",
        "x = np.array([ 0.        ,  0.20408163,  0.40816327,  0.6122449 ,  0.81632653,\n",
        "        1.02040816,  1.2244898 ,  1.42857143,  1.63265306,  1.83673469,\n",
        "        2.04081633,  2.24489796,  2.44897959,  2.65306122,  2.85714286,\n",
        "        3.06122449,  3.26530612,  3.46938776,  3.67346939,  3.87755102,\n",
        "        4.08163265,  4.28571429,  4.48979592,  4.69387755,  4.89795918,\n",
        "        5.10204082,  5.30612245,  5.51020408,  5.71428571,  5.91836735,\n",
        "        6.12244898,  6.32653061,  6.53061224,  6.73469388,  6.93877551,\n",
        "        7.14285714,  7.34693878,  7.55102041,  7.75510204,  7.95918367,\n",
        "        8.16326531,  8.36734694,  8.57142857,  8.7755102 ,  8.97959184,\n",
        "        9.18367347,  9.3877551 ,  9.59183673,  9.79591837, 10.        ])\n",
        "y = np.array([ 0.85848224, -0.10657947,  1.42771901,  0.53554778,  1.20216826,\n",
        "        1.81330509,  1.88362644,  2.23557653,  2.7384889 ,  3.41174583,\n",
        "        4.08573636,  3.82529502,  4.39723111,  4.8852381 ,  4.70092778,\n",
        "        4.66993962,  6.05133235,  5.44529881,  7.22571332,  6.79423911,\n",
        "        7.05424438,  7.00413058,  7.98149596,  7.00044008,  7.95903855,\n",
        "        9.96125238,  9.06040794,  9.56018295,  9.30035956,  9.26517614,\n",
        "        9.56401824, 10.07659844, 11.56755942, 11.38956185, 11.83586027,\n",
        "       12.45642786, 11.58403954, 11.60186428, 13.88486667, 13.35550112,\n",
        "       13.93938726, 13.31678277, 13.69551472, 14.76548676, 14.81731598,\n",
        "       14.9659187 , 15.19213921, 15.28195017, 15.97997265, 16.41258817])\n"
      ]
    },
    {
      "cell_type": "code",
      "execution_count": 20,
      "metadata": {
        "id": "KqQLMJv19znx"
      },
      "outputs": [],
      "source": [
        "#匯入在sklearn.linear_model套件裡面的LinearRegression模型\n",
        "#匯入在sklearn.model_selection套件裡面的train_test_split模組\n",
        "#切割數據集(訓練資料80%、測試資料20%，設定random_state=20)\n",
        "#畫出訓練資料集的matplotlib圖形m"
      ]
    },
    {
      "cell_type": "code",
      "source": [],
      "metadata": {
        "id": "E-By6vyuEfpO"
      },
      "execution_count": null,
      "outputs": []
    },
    {
      "cell_type": "markdown",
      "metadata": {
        "id": "OCW-1gKE9zny"
      },
      "source": [
        "## 用訓練資料來 fit 函數\n",
        "1. 只用訓練資料集的資料進行linear regression演算法<br>\n",
        "2. 並計算出訓練階段的MSE\n",
        "3. 畫出目標點(藍色)與預測點(紅色)的對應圖\n",
        "![](images/LR_train.PNG)"
      ]
    },
    {
      "cell_type": "code",
      "execution_count": null,
      "metadata": {
        "id": "3uLXbB149znz"
      },
      "outputs": [],
      "source": []
    },
    {
      "cell_type": "code",
      "execution_count": null,
      "metadata": {
        "id": "EhaeqHvD9znz"
      },
      "outputs": [],
      "source": []
    },
    {
      "cell_type": "markdown",
      "metadata": {
        "id": "8Xy3aQAm9znz"
      },
      "source": [
        "## 將訓練出來的函數預測測試集的X值\n",
        "1. 使用剛剛訓練出來的模型進行測試資料集的資料預測*注意reshape<br>\n",
        "使用X = 2.44897959，預測出來數值應該為 4.3025375<br>\n",
        "所有測試集資料\n",
        "$$\\widehat{y}=xw+b=w_{1}x_{1}+b$$"
      ]
    },
    {
      "cell_type": "code",
      "execution_count": null,
      "metadata": {
        "id": "Sga_hsRE9zn0"
      },
      "outputs": [],
      "source": []
    },
    {
      "cell_type": "code",
      "execution_count": null,
      "metadata": {
        "id": "Lu_M7quW9zn0"
      },
      "outputs": [],
      "source": []
    },
    {
      "cell_type": "markdown",
      "metadata": {
        "id": "qg9yQzs59zn0"
      },
      "source": [
        "2. 並計算出測試階段的MSE"
      ]
    },
    {
      "cell_type": "code",
      "execution_count": null,
      "metadata": {
        "id": "iygo4Mi19zn1"
      },
      "outputs": [],
      "source": []
    },
    {
      "cell_type": "markdown",
      "metadata": {
        "id": "eP6j7BpF9zn1"
      },
      "source": [
        "3. 畫出目標點(藍色)與預測點(紅色)的對應圖\n",
        "![](images/LR_test.PNG)"
      ]
    },
    {
      "cell_type": "code",
      "execution_count": null,
      "metadata": {
        "id": "15a-xHsq9zn1"
      },
      "outputs": [],
      "source": []
    },
    {
      "cell_type": "code",
      "execution_count": null,
      "metadata": {
        "id": "EwHC5a699zn1"
      },
      "outputs": [],
      "source": []
    }
  ],
  "metadata": {
    "kernelspec": {
      "display_name": "Python 3",
      "language": "python",
      "name": "python3"
    },
    "language_info": {
      "codemirror_mode": {
        "name": "ipython",
        "version": 3
      },
      "file_extension": ".py",
      "mimetype": "text/x-python",
      "name": "python",
      "nbconvert_exporter": "python",
      "pygments_lexer": "ipython3",
      "version": "3.8.8"
    },
    "colab": {
      "provenance": [],
      "include_colab_link": true
    }
  },
  "nbformat": 4,
  "nbformat_minor": 0
}